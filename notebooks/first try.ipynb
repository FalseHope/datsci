{
 "cells": [
  {
   "cell_type": "code",
   "execution_count": 1,
   "outputs": [
    {
     "data": {
      "text/plain": "0    1\n1    2\n2    3\n3    4\ndtype: int64"
     },
     "metadata": {},
     "output_type": "execute_result",
     "execution_count": 1
    }
   ],
   "source": [
    "import pandas as pd\n",
    "data = [1,2,3,4]\n",
    "series1 = pd.Series(data)\n",
    "series1"
   ],
   "metadata": {
    "collapsed": false,
    "pycharm": {
     "name": "#%%\n",
     "is_executing": false
    }
   }
  },
  {
   "cell_type": "code",
   "execution_count": 9,
   "outputs": [
    {
     "data": {
      "text/plain": "pandas.core.series.Series"
     },
     "metadata": {},
     "output_type": "execute_result",
     "execution_count": 9
    }
   ],
   "source": [
    "type(series1)\n",
    "\n"
   ],
   "metadata": {
    "collapsed": false,
    "pycharm": {
     "name": "#%%\n",
     "is_executing": false
    }
   }
  },
  {
   "cell_type": "code",
   "execution_count": 11,
   "outputs": [
    {
     "data": {
      "text/plain": "a    1\nb    2\nc    3\nd    4\ndtype: int64"
     },
     "metadata": {},
     "output_type": "execute_result",
     "execution_count": 11
    }
   ],
   "source": [
    "# Changing the index of a series object(a,b,c,d)\n",
    "import string\n",
    "series1 = pd.Series(data, index = list(string.ascii_lowercase)[0:len(data)], )\n",
    "series1"
   ],
   "metadata": {
    "collapsed": false,
    "pycharm": {
     "name": "#%%\n",
     "is_executing": false
    }
   }
  },
  {
   "cell_type": "markdown",
   "source": [
    "### How to create a dataframe"
   ],
   "metadata": {
    "collapsed": false
   }
  },
  {
   "cell_type": "code",
   "execution_count": 19,
   "outputs": [
    {
     "data": {
      "text/plain": "   the data\na         1\nb         2\nc         3\nd         4",
      "text/html": "<div>\n<style scoped>\n    .dataframe tbody tr th:only-of-type {\n        vertical-align: middle;\n    }\n\n    .dataframe tbody tr th {\n        vertical-align: top;\n    }\n\n    .dataframe thead th {\n        text-align: right;\n    }\n</style>\n<table border=\"1\" class=\"dataframe\">\n  <thead>\n    <tr style=\"text-align: right;\">\n      <th></th>\n      <th>the data</th>\n    </tr>\n  </thead>\n  <tbody>\n    <tr>\n      <th>a</th>\n      <td>1</td>\n    </tr>\n    <tr>\n      <th>b</th>\n      <td>2</td>\n    </tr>\n    <tr>\n      <th>c</th>\n      <td>3</td>\n    </tr>\n    <tr>\n      <th>d</th>\n      <td>4</td>\n    </tr>\n  </tbody>\n</table>\n</div>"
     },
     "metadata": {},
     "output_type": "execute_result",
     "execution_count": 19
    }
   ],
   "source": [
    "# using list\n",
    "import pandas as pd\n",
    "dt = [1,2,3,4]\n",
    "df = pd.DataFrame(dt, index = list(string.ascii_lowercase)[0:len(data)], columns=['the data'])\n",
    "df\n",
    "\n"
   ],
   "metadata": {
    "collapsed": false,
    "pycharm": {
     "name": "#%%\n",
     "is_executing": false
    }
   }
  },
  {
   "cell_type": "code",
   "execution_count": 20,
   "outputs": [
    {
     "data": {
      "text/plain": "   fruits  count\n0   apple     10\n1  banana     20\n2   mango     15",
      "text/html": "<div>\n<style scoped>\n    .dataframe tbody tr th:only-of-type {\n        vertical-align: middle;\n    }\n\n    .dataframe tbody tr th {\n        vertical-align: top;\n    }\n\n    .dataframe thead th {\n        text-align: right;\n    }\n</style>\n<table border=\"1\" class=\"dataframe\">\n  <thead>\n    <tr style=\"text-align: right;\">\n      <th></th>\n      <th>fruits</th>\n      <th>count</th>\n    </tr>\n  </thead>\n  <tbody>\n    <tr>\n      <th>0</th>\n      <td>apple</td>\n      <td>10</td>\n    </tr>\n    <tr>\n      <th>1</th>\n      <td>banana</td>\n      <td>20</td>\n    </tr>\n    <tr>\n      <th>2</th>\n      <td>mango</td>\n      <td>15</td>\n    </tr>\n  </tbody>\n</table>\n</div>"
     },
     "metadata": {},
     "output_type": "execute_result",
     "execution_count": 20
    }
   ],
   "source": [
    "# using dictionary\n",
    "import pandas as pd\n",
    "data2 = {'fruits':['apple', 'banana', 'mango'], 'count':[10,20,15]}\n",
    "df = pd.DataFrame(data2)\n",
    "df"
   ],
   "metadata": {
    "collapsed": false,
    "pycharm": {
     "name": "#%%\n",
     "is_executing": false
    }
   }
  },
  {
   "cell_type": "code",
   "execution_count": 21,
   "outputs": [
    {
     "data": {
      "text/plain": "   0\na  1\nb  2\nc  3\nd  4",
      "text/html": "<div>\n<style scoped>\n    .dataframe tbody tr th:only-of-type {\n        vertical-align: middle;\n    }\n\n    .dataframe tbody tr th {\n        vertical-align: top;\n    }\n\n    .dataframe thead th {\n        text-align: right;\n    }\n</style>\n<table border=\"1\" class=\"dataframe\">\n  <thead>\n    <tr style=\"text-align: right;\">\n      <th></th>\n      <th>0</th>\n    </tr>\n  </thead>\n  <tbody>\n    <tr>\n      <th>a</th>\n      <td>1</td>\n    </tr>\n    <tr>\n      <th>b</th>\n      <td>2</td>\n    </tr>\n    <tr>\n      <th>c</th>\n      <td>3</td>\n    </tr>\n    <tr>\n      <th>d</th>\n      <td>4</td>\n    </tr>\n  </tbody>\n</table>\n</div>"
     },
     "metadata": {},
     "output_type": "execute_result",
     "execution_count": 21
    }
   ],
   "source": [
    "# creating a dataframe using a series\n",
    "df2 = pd.DataFrame(series1)\n",
    "df2"
   ],
   "metadata": {
    "collapsed": false,
    "pycharm": {
     "name": "#%%\n",
     "is_executing": false
    }
   }
  },
  {
   "cell_type": "code",
   "execution_count": 28,
   "outputs": [
    {
     "data": {
      "text/plain": "    name salary\n0   John  50000\n1  James  60000",
      "text/html": "<div>\n<style scoped>\n    .dataframe tbody tr th:only-of-type {\n        vertical-align: middle;\n    }\n\n    .dataframe tbody tr th {\n        vertical-align: top;\n    }\n\n    .dataframe thead th {\n        text-align: right;\n    }\n</style>\n<table border=\"1\" class=\"dataframe\">\n  <thead>\n    <tr style=\"text-align: right;\">\n      <th></th>\n      <th>name</th>\n      <th>salary</th>\n    </tr>\n  </thead>\n  <tbody>\n    <tr>\n      <th>0</th>\n      <td>John</td>\n      <td>50000</td>\n    </tr>\n    <tr>\n      <th>1</th>\n      <td>James</td>\n      <td>60000</td>\n    </tr>\n  </tbody>\n</table>\n</div>"
     },
     "metadata": {},
     "output_type": "execute_result",
     "execution_count": 28
    }
   ],
   "source": [
    "# creating a df using a numpy array\n",
    "import numpy as np\n",
    "numarr = np.array([[50000,60000],['John','James']])\n",
    "df3 = pd.DataFrame({'name':numarr[1], 'salary':numarr[0]})\n",
    "df3"
   ],
   "metadata": {
    "collapsed": false,
    "pycharm": {
     "name": "#%%\n",
     "is_executing": false
    }
   }
  },
  {
   "cell_type": "markdown",
   "source": [
    "## How to perform a merge Operation?"
   ],
   "metadata": {
    "collapsed": false,
    "pycharm": {
     "name": "#%% md\n"
    }
   }
  },
  {
   "cell_type": "code",
   "execution_count": 30,
   "outputs": [
    {
     "data": {
      "text/plain": "  Player  Points  Title\n0     p1       8  Game1\n1     p2       9  Game2\n2     p3       6  Game3",
      "text/html": "<div>\n<style scoped>\n    .dataframe tbody tr th:only-of-type {\n        vertical-align: middle;\n    }\n\n    .dataframe tbody tr th {\n        vertical-align: top;\n    }\n\n    .dataframe thead th {\n        text-align: right;\n    }\n</style>\n<table border=\"1\" class=\"dataframe\">\n  <thead>\n    <tr style=\"text-align: right;\">\n      <th></th>\n      <th>Player</th>\n      <th>Points</th>\n      <th>Title</th>\n    </tr>\n  </thead>\n  <tbody>\n    <tr>\n      <th>0</th>\n      <td>p1</td>\n      <td>8</td>\n      <td>Game1</td>\n    </tr>\n    <tr>\n      <th>1</th>\n      <td>p2</td>\n      <td>9</td>\n      <td>Game2</td>\n    </tr>\n    <tr>\n      <th>2</th>\n      <td>p3</td>\n      <td>6</td>\n      <td>Game3</td>\n    </tr>\n  </tbody>\n</table>\n</div>"
     },
     "metadata": {},
     "output_type": "execute_result",
     "execution_count": 30
    }
   ],
   "source": [
    "import pandas as pd\n",
    "player = ['p1','p2','p3']\n",
    "point = [8,9,6]\n",
    "title = ['Game1','Game2','Game3']\n",
    "df4 = pd.DataFrame({'Player':player, 'Points':point, 'Title':title})\n",
    "df4"
   ],
   "metadata": {
    "collapsed": false,
    "pycharm": {
     "name": "#%%\n",
     "is_executing": false
    }
   }
  },
  {
   "cell_type": "code",
   "execution_count": 33,
   "outputs": [
    {
     "data": {
      "text/plain": "  Player  Power  Title\n0     p1  Punch  Game1\n1     p5   Kick  Game5\n2     p6  Elbow  Game6",
      "text/html": "<div>\n<style scoped>\n    .dataframe tbody tr th:only-of-type {\n        vertical-align: middle;\n    }\n\n    .dataframe tbody tr th {\n        vertical-align: top;\n    }\n\n    .dataframe thead th {\n        text-align: right;\n    }\n</style>\n<table border=\"1\" class=\"dataframe\">\n  <thead>\n    <tr style=\"text-align: right;\">\n      <th></th>\n      <th>Player</th>\n      <th>Power</th>\n      <th>Title</th>\n    </tr>\n  </thead>\n  <tbody>\n    <tr>\n      <th>0</th>\n      <td>p1</td>\n      <td>Punch</td>\n      <td>Game1</td>\n    </tr>\n    <tr>\n      <th>1</th>\n      <td>p5</td>\n      <td>Kick</td>\n      <td>Game5</td>\n    </tr>\n    <tr>\n      <th>2</th>\n      <td>p6</td>\n      <td>Elbow</td>\n      <td>Game6</td>\n    </tr>\n  </tbody>\n</table>\n</div>"
     },
     "metadata": {},
     "output_type": "execute_result",
     "execution_count": 33
    }
   ],
   "source": [
    "player = ['p1','p5','p6']\n",
    "power = ['Punch','Kick','Elbow']\n",
    "title = ['Game1','Game5','Game6']\n",
    "df5 = pd.DataFrame({'Player':player,'Power':power,'Title':title})\n",
    "df5\n",
    "\n"
   ],
   "metadata": {
    "collapsed": false,
    "pycharm": {
     "name": "#%%\n",
     "is_executing": false
    }
   }
  },
  {
   "cell_type": "code",
   "execution_count": 36,
   "outputs": [
    {
     "data": {
      "text/plain": "  Player  Points Title_x  Power Title_y\n0     p1       8   Game1  Punch   Game1",
      "text/html": "<div>\n<style scoped>\n    .dataframe tbody tr th:only-of-type {\n        vertical-align: middle;\n    }\n\n    .dataframe tbody tr th {\n        vertical-align: top;\n    }\n\n    .dataframe thead th {\n        text-align: right;\n    }\n</style>\n<table border=\"1\" class=\"dataframe\">\n  <thead>\n    <tr style=\"text-align: right;\">\n      <th></th>\n      <th>Player</th>\n      <th>Points</th>\n      <th>Title_x</th>\n      <th>Power</th>\n      <th>Title_y</th>\n    </tr>\n  </thead>\n  <tbody>\n    <tr>\n      <th>0</th>\n      <td>p1</td>\n      <td>8</td>\n      <td>Game1</td>\n      <td>Punch</td>\n      <td>Game1</td>\n    </tr>\n  </tbody>\n</table>\n</div>"
     },
     "metadata": {},
     "output_type": "execute_result",
     "execution_count": 36
    }
   ],
   "source": [
    "#Inner merge\n",
    "df4.merge(df5,on='Player', how='inner')\n"
   ],
   "metadata": {
    "collapsed": false,
    "pycharm": {
     "name": "#%%\n",
     "is_executing": false
    }
   }
  },
  {
   "cell_type": "code",
   "execution_count": 39,
   "outputs": [
    {
     "data": {
      "text/plain": "  Player  Points Title_x  Power Title_y\n0     p1       8   Game1  Punch   Game1\n1     p2       9   Game2    NaN     NaN\n2     p3       6   Game3    NaN     NaN",
      "text/html": "<div>\n<style scoped>\n    .dataframe tbody tr th:only-of-type {\n        vertical-align: middle;\n    }\n\n    .dataframe tbody tr th {\n        vertical-align: top;\n    }\n\n    .dataframe thead th {\n        text-align: right;\n    }\n</style>\n<table border=\"1\" class=\"dataframe\">\n  <thead>\n    <tr style=\"text-align: right;\">\n      <th></th>\n      <th>Player</th>\n      <th>Points</th>\n      <th>Title_x</th>\n      <th>Power</th>\n      <th>Title_y</th>\n    </tr>\n  </thead>\n  <tbody>\n    <tr>\n      <th>0</th>\n      <td>p1</td>\n      <td>8</td>\n      <td>Game1</td>\n      <td>Punch</td>\n      <td>Game1</td>\n    </tr>\n    <tr>\n      <th>1</th>\n      <td>p2</td>\n      <td>9</td>\n      <td>Game2</td>\n      <td>NaN</td>\n      <td>NaN</td>\n    </tr>\n    <tr>\n      <th>2</th>\n      <td>p3</td>\n      <td>6</td>\n      <td>Game3</td>\n      <td>NaN</td>\n      <td>NaN</td>\n    </tr>\n  </tbody>\n</table>\n</div>"
     },
     "metadata": {},
     "output_type": "execute_result",
     "execution_count": 39
    }
   ],
   "source": [
    "# Left merge\n",
    "df4.merge(df5, on=\"Player\",how='left')"
   ],
   "metadata": {
    "collapsed": false,
    "pycharm": {
     "name": "#%%\n",
     "is_executing": false
    }
   }
  },
  {
   "cell_type": "code",
   "execution_count": 40,
   "outputs": [
    {
     "data": {
      "text/plain": "  Player  Points Title_x  Power Title_y\n0     p1     8.0   Game1  Punch   Game1\n1     p5     NaN     NaN   Kick   Game5\n2     p6     NaN     NaN  Elbow   Game6",
      "text/html": "<div>\n<style scoped>\n    .dataframe tbody tr th:only-of-type {\n        vertical-align: middle;\n    }\n\n    .dataframe tbody tr th {\n        vertical-align: top;\n    }\n\n    .dataframe thead th {\n        text-align: right;\n    }\n</style>\n<table border=\"1\" class=\"dataframe\">\n  <thead>\n    <tr style=\"text-align: right;\">\n      <th></th>\n      <th>Player</th>\n      <th>Points</th>\n      <th>Title_x</th>\n      <th>Power</th>\n      <th>Title_y</th>\n    </tr>\n  </thead>\n  <tbody>\n    <tr>\n      <th>0</th>\n      <td>p1</td>\n      <td>8.0</td>\n      <td>Game1</td>\n      <td>Punch</td>\n      <td>Game1</td>\n    </tr>\n    <tr>\n      <th>1</th>\n      <td>p5</td>\n      <td>NaN</td>\n      <td>NaN</td>\n      <td>Kick</td>\n      <td>Game5</td>\n    </tr>\n    <tr>\n      <th>2</th>\n      <td>p6</td>\n      <td>NaN</td>\n      <td>NaN</td>\n      <td>Elbow</td>\n      <td>Game6</td>\n    </tr>\n  </tbody>\n</table>\n</div>"
     },
     "metadata": {},
     "output_type": "execute_result",
     "execution_count": 40
    }
   ],
   "source": [
    "# Right merge\n",
    "df4.merge(df5, on=\"Player\",how='right')"
   ],
   "metadata": {
    "collapsed": false,
    "pycharm": {
     "name": "#%%\n",
     "is_executing": false
    }
   }
  },
  {
   "cell_type": "code",
   "execution_count": 42,
   "outputs": [
    {
     "data": {
      "text/plain": "  Player  Points Title_x  Power Title_y\n0     p1     8.0   Game1  Punch   Game1\n1     p2     9.0   Game2    NaN     NaN\n2     p3     6.0   Game3    NaN     NaN\n3     p5     NaN     NaN   Kick   Game5\n4     p6     NaN     NaN  Elbow   Game6",
      "text/html": "<div>\n<style scoped>\n    .dataframe tbody tr th:only-of-type {\n        vertical-align: middle;\n    }\n\n    .dataframe tbody tr th {\n        vertical-align: top;\n    }\n\n    .dataframe thead th {\n        text-align: right;\n    }\n</style>\n<table border=\"1\" class=\"dataframe\">\n  <thead>\n    <tr style=\"text-align: right;\">\n      <th></th>\n      <th>Player</th>\n      <th>Points</th>\n      <th>Title_x</th>\n      <th>Power</th>\n      <th>Title_y</th>\n    </tr>\n  </thead>\n  <tbody>\n    <tr>\n      <th>0</th>\n      <td>p1</td>\n      <td>8.0</td>\n      <td>Game1</td>\n      <td>Punch</td>\n      <td>Game1</td>\n    </tr>\n    <tr>\n      <th>1</th>\n      <td>p2</td>\n      <td>9.0</td>\n      <td>Game2</td>\n      <td>NaN</td>\n      <td>NaN</td>\n    </tr>\n    <tr>\n      <th>2</th>\n      <td>p3</td>\n      <td>6.0</td>\n      <td>Game3</td>\n      <td>NaN</td>\n      <td>NaN</td>\n    </tr>\n    <tr>\n      <th>3</th>\n      <td>p5</td>\n      <td>NaN</td>\n      <td>NaN</td>\n      <td>Kick</td>\n      <td>Game5</td>\n    </tr>\n    <tr>\n      <th>4</th>\n      <td>p6</td>\n      <td>NaN</td>\n      <td>NaN</td>\n      <td>Elbow</td>\n      <td>Game6</td>\n    </tr>\n  </tbody>\n</table>\n</div>"
     },
     "metadata": {},
     "output_type": "execute_result",
     "execution_count": 42
    }
   ],
   "source": [
    "# Outer merge\n",
    "df4.merge(df5, on=\"Player\",how='outer')"
   ],
   "metadata": {
    "collapsed": false,
    "pycharm": {
     "name": "#%%\n",
     "is_executing": false
    }
   }
  },
  {
   "cell_type": "markdown",
   "source": [
    "# join operation"
   ],
   "metadata": {
    "collapsed": false,
    "pycharm": {
     "name": "#%% md\n"
    }
   }
  },
  {
   "cell_type": "code",
   "execution_count": 59,
   "outputs": [
    {
     "data": {
      "text/plain": "   Player  Points  Title\nL2     p1       8  Game1\nL3     p2       9  Game2",
      "text/html": "<div>\n<style scoped>\n    .dataframe tbody tr th:only-of-type {\n        vertical-align: middle;\n    }\n\n    .dataframe tbody tr th {\n        vertical-align: top;\n    }\n\n    .dataframe thead th {\n        text-align: right;\n    }\n</style>\n<table border=\"1\" class=\"dataframe\">\n  <thead>\n    <tr style=\"text-align: right;\">\n      <th></th>\n      <th>Player</th>\n      <th>Points</th>\n      <th>Title</th>\n    </tr>\n  </thead>\n  <tbody>\n    <tr>\n      <th>L2</th>\n      <td>p1</td>\n      <td>8</td>\n      <td>Game1</td>\n    </tr>\n    <tr>\n      <th>L3</th>\n      <td>p2</td>\n      <td>9</td>\n      <td>Game2</td>\n    </tr>\n  </tbody>\n</table>\n</div>"
     },
     "metadata": {},
     "output_type": "execute_result",
     "execution_count": 59
    }
   ],
   "source": [
    "import pandas as pd\n",
    "player = ['p1','p2']\n",
    "point = [8,9]\n",
    "title = ['Game1','Game2',]\n",
    "df1 = pd.DataFrame({'Player':player, 'Points':point, 'Title':title},index=['L2','L3'])\n",
    "df1"
   ],
   "metadata": {
    "collapsed": false,
    "pycharm": {
     "name": "#%%\n",
     "is_executing": false
    }
   }
  },
  {
   "cell_type": "code",
   "execution_count": 60,
   "outputs": [
    {
     "data": {
      "text/plain": "   Players  Power Titles\nL2      p1  Punch  Game1\nL3      p5   Kick  Game5\nL4      p6  Elbow  Game6",
      "text/html": "<div>\n<style scoped>\n    .dataframe tbody tr th:only-of-type {\n        vertical-align: middle;\n    }\n\n    .dataframe tbody tr th {\n        vertical-align: top;\n    }\n\n    .dataframe thead th {\n        text-align: right;\n    }\n</style>\n<table border=\"1\" class=\"dataframe\">\n  <thead>\n    <tr style=\"text-align: right;\">\n      <th></th>\n      <th>Players</th>\n      <th>Power</th>\n      <th>Titles</th>\n    </tr>\n  </thead>\n  <tbody>\n    <tr>\n      <th>L2</th>\n      <td>p1</td>\n      <td>Punch</td>\n      <td>Game1</td>\n    </tr>\n    <tr>\n      <th>L3</th>\n      <td>p5</td>\n      <td>Kick</td>\n      <td>Game5</td>\n    </tr>\n    <tr>\n      <th>L4</th>\n      <td>p6</td>\n      <td>Elbow</td>\n      <td>Game6</td>\n    </tr>\n  </tbody>\n</table>\n</div>"
     },
     "metadata": {},
     "output_type": "execute_result",
     "execution_count": 60
    }
   ],
   "source": [
    "player = ['p1','p5','p6']\n",
    "power = ['Punch','Kick','Elbow']\n",
    "title = ['Game1','Game5','Game6']\n",
    "df2 = pd.DataFrame({'Players':player,'Power':power,'Titles':title},index=['L2','L3','L4'])\n",
    "df2\n",
    "\n",
    "\n",
    "\n"
   ],
   "metadata": {
    "collapsed": false,
    "pycharm": {
     "name": "#%%\n",
     "is_executing": false
    }
   }
  },
  {
   "cell_type": "code",
   "execution_count": 64,
   "outputs": [
    {
     "data": {
      "text/plain": "   Player  Points  Title Players  Power Titles\nL2     p1       8  Game1      p1  Punch  Game1\nL3     p2       9  Game2      p5   Kick  Game5",
      "text/html": "<div>\n<style scoped>\n    .dataframe tbody tr th:only-of-type {\n        vertical-align: middle;\n    }\n\n    .dataframe tbody tr th {\n        vertical-align: top;\n    }\n\n    .dataframe thead th {\n        text-align: right;\n    }\n</style>\n<table border=\"1\" class=\"dataframe\">\n  <thead>\n    <tr style=\"text-align: right;\">\n      <th></th>\n      <th>Player</th>\n      <th>Points</th>\n      <th>Title</th>\n      <th>Players</th>\n      <th>Power</th>\n      <th>Titles</th>\n    </tr>\n  </thead>\n  <tbody>\n    <tr>\n      <th>L2</th>\n      <td>p1</td>\n      <td>8</td>\n      <td>Game1</td>\n      <td>p1</td>\n      <td>Punch</td>\n      <td>Game1</td>\n    </tr>\n    <tr>\n      <th>L3</th>\n      <td>p2</td>\n      <td>9</td>\n      <td>Game2</td>\n      <td>p5</td>\n      <td>Kick</td>\n      <td>Game5</td>\n    </tr>\n  </tbody>\n</table>\n</div>"
     },
     "metadata": {},
     "output_type": "execute_result",
     "execution_count": 64
    }
   ],
   "source": [
    "#Inner join\n",
    "df1.join(df2,how='inner')\n"
   ],
   "metadata": {
    "collapsed": false,
    "pycharm": {
     "name": "#%%\n",
     "is_executing": false
    }
   }
  },
  {
   "cell_type": "code",
   "execution_count": 65,
   "outputs": [
    {
     "data": {
      "text/plain": "   Player  Points  Title Players  Power Titles\nL2     p1       8  Game1      p1  Punch  Game1\nL3     p2       9  Game2      p5   Kick  Game5",
      "text/html": "<div>\n<style scoped>\n    .dataframe tbody tr th:only-of-type {\n        vertical-align: middle;\n    }\n\n    .dataframe tbody tr th {\n        vertical-align: top;\n    }\n\n    .dataframe thead th {\n        text-align: right;\n    }\n</style>\n<table border=\"1\" class=\"dataframe\">\n  <thead>\n    <tr style=\"text-align: right;\">\n      <th></th>\n      <th>Player</th>\n      <th>Points</th>\n      <th>Title</th>\n      <th>Players</th>\n      <th>Power</th>\n      <th>Titles</th>\n    </tr>\n  </thead>\n  <tbody>\n    <tr>\n      <th>L2</th>\n      <td>p1</td>\n      <td>8</td>\n      <td>Game1</td>\n      <td>p1</td>\n      <td>Punch</td>\n      <td>Game1</td>\n    </tr>\n    <tr>\n      <th>L3</th>\n      <td>p2</td>\n      <td>9</td>\n      <td>Game2</td>\n      <td>p5</td>\n      <td>Kick</td>\n      <td>Game5</td>\n    </tr>\n  </tbody>\n</table>\n</div>"
     },
     "metadata": {},
     "output_type": "execute_result",
     "execution_count": 65
    }
   ],
   "source": [
    "#Left join\n",
    "df1.join(df2,how='left')"
   ],
   "metadata": {
    "collapsed": false,
    "pycharm": {
     "name": "#%%\n",
     "is_executing": false
    }
   }
  },
  {
   "cell_type": "code",
   "execution_count": 66,
   "outputs": [
    {
     "data": {
      "text/plain": "   Player  Points  Title Players  Power Titles\nL2     p1     8.0  Game1      p1  Punch  Game1\nL3     p2     9.0  Game2      p5   Kick  Game5\nL4    NaN     NaN    NaN      p6  Elbow  Game6",
      "text/html": "<div>\n<style scoped>\n    .dataframe tbody tr th:only-of-type {\n        vertical-align: middle;\n    }\n\n    .dataframe tbody tr th {\n        vertical-align: top;\n    }\n\n    .dataframe thead th {\n        text-align: right;\n    }\n</style>\n<table border=\"1\" class=\"dataframe\">\n  <thead>\n    <tr style=\"text-align: right;\">\n      <th></th>\n      <th>Player</th>\n      <th>Points</th>\n      <th>Title</th>\n      <th>Players</th>\n      <th>Power</th>\n      <th>Titles</th>\n    </tr>\n  </thead>\n  <tbody>\n    <tr>\n      <th>L2</th>\n      <td>p1</td>\n      <td>8.0</td>\n      <td>Game1</td>\n      <td>p1</td>\n      <td>Punch</td>\n      <td>Game1</td>\n    </tr>\n    <tr>\n      <th>L3</th>\n      <td>p2</td>\n      <td>9.0</td>\n      <td>Game2</td>\n      <td>p5</td>\n      <td>Kick</td>\n      <td>Game5</td>\n    </tr>\n    <tr>\n      <th>L4</th>\n      <td>NaN</td>\n      <td>NaN</td>\n      <td>NaN</td>\n      <td>p6</td>\n      <td>Elbow</td>\n      <td>Game6</td>\n    </tr>\n  </tbody>\n</table>\n</div>"
     },
     "metadata": {},
     "output_type": "execute_result",
     "execution_count": 66
    }
   ],
   "source": [
    "#Right join\n",
    "df1.join(df2,how='right')"
   ],
   "metadata": {
    "collapsed": false,
    "pycharm": {
     "name": "#%%\n",
     "is_executing": false
    }
   }
  },
  {
   "cell_type": "code",
   "execution_count": 67,
   "outputs": [
    {
     "data": {
      "text/plain": "   Player  Points  Title Players  Power Titles\nL2     p1     8.0  Game1      p1  Punch  Game1\nL3     p2     9.0  Game2      p5   Kick  Game5\nL4    NaN     NaN    NaN      p6  Elbow  Game6",
      "text/html": "<div>\n<style scoped>\n    .dataframe tbody tr th:only-of-type {\n        vertical-align: middle;\n    }\n\n    .dataframe tbody tr th {\n        vertical-align: top;\n    }\n\n    .dataframe thead th {\n        text-align: right;\n    }\n</style>\n<table border=\"1\" class=\"dataframe\">\n  <thead>\n    <tr style=\"text-align: right;\">\n      <th></th>\n      <th>Player</th>\n      <th>Points</th>\n      <th>Title</th>\n      <th>Players</th>\n      <th>Power</th>\n      <th>Titles</th>\n    </tr>\n  </thead>\n  <tbody>\n    <tr>\n      <th>L2</th>\n      <td>p1</td>\n      <td>8.0</td>\n      <td>Game1</td>\n      <td>p1</td>\n      <td>Punch</td>\n      <td>Game1</td>\n    </tr>\n    <tr>\n      <th>L3</th>\n      <td>p2</td>\n      <td>9.0</td>\n      <td>Game2</td>\n      <td>p5</td>\n      <td>Kick</td>\n      <td>Game5</td>\n    </tr>\n    <tr>\n      <th>L4</th>\n      <td>NaN</td>\n      <td>NaN</td>\n      <td>NaN</td>\n      <td>p6</td>\n      <td>Elbow</td>\n      <td>Game6</td>\n    </tr>\n  </tbody>\n</table>\n</div>"
     },
     "metadata": {},
     "output_type": "execute_result",
     "execution_count": 67
    }
   ],
   "source": [
    "#Outer join\n",
    "df1.join(df2,how='outer')\n",
    "\n",
    "\n"
   ],
   "metadata": {
    "collapsed": false,
    "pycharm": {
     "name": "#%%\n",
     "is_executing": false
    }
   }
  },
  {
   "cell_type": "markdown",
   "source": [
    "## how to conactenate?\n",
    "\n"
   ],
   "metadata": {
    "collapsed": false,
    "pycharm": {
     "name": "#%% md\n"
    }
   }
  },
  {
   "cell_type": "code",
   "execution_count": 70,
   "outputs": [
    {
     "data": {
      "text/plain": "   Player Players  Points  Power  Title Titles\nL2     p1     NaN     8.0    NaN  Game1    NaN\nL3     p2     NaN     9.0    NaN  Game2    NaN\nL2    NaN      p1     NaN  Punch    NaN  Game1\nL3    NaN      p5     NaN   Kick    NaN  Game5\nL4    NaN      p6     NaN  Elbow    NaN  Game6",
      "text/html": "<div>\n<style scoped>\n    .dataframe tbody tr th:only-of-type {\n        vertical-align: middle;\n    }\n\n    .dataframe tbody tr th {\n        vertical-align: top;\n    }\n\n    .dataframe thead th {\n        text-align: right;\n    }\n</style>\n<table border=\"1\" class=\"dataframe\">\n  <thead>\n    <tr style=\"text-align: right;\">\n      <th></th>\n      <th>Player</th>\n      <th>Players</th>\n      <th>Points</th>\n      <th>Power</th>\n      <th>Title</th>\n      <th>Titles</th>\n    </tr>\n  </thead>\n  <tbody>\n    <tr>\n      <th>L2</th>\n      <td>p1</td>\n      <td>NaN</td>\n      <td>8.0</td>\n      <td>NaN</td>\n      <td>Game1</td>\n      <td>NaN</td>\n    </tr>\n    <tr>\n      <th>L3</th>\n      <td>p2</td>\n      <td>NaN</td>\n      <td>9.0</td>\n      <td>NaN</td>\n      <td>Game2</td>\n      <td>NaN</td>\n    </tr>\n    <tr>\n      <th>L2</th>\n      <td>NaN</td>\n      <td>p1</td>\n      <td>NaN</td>\n      <td>Punch</td>\n      <td>NaN</td>\n      <td>Game1</td>\n    </tr>\n    <tr>\n      <th>L3</th>\n      <td>NaN</td>\n      <td>p5</td>\n      <td>NaN</td>\n      <td>Kick</td>\n      <td>NaN</td>\n      <td>Game5</td>\n    </tr>\n    <tr>\n      <th>L4</th>\n      <td>NaN</td>\n      <td>p6</td>\n      <td>NaN</td>\n      <td>Elbow</td>\n      <td>NaN</td>\n      <td>Game6</td>\n    </tr>\n  </tbody>\n</table>\n</div>"
     },
     "metadata": {},
     "output_type": "execute_result",
     "execution_count": 70
    }
   ],
   "source": [
    "pd.concat([df1,df2], sort='False')"
   ],
   "metadata": {
    "collapsed": false,
    "pycharm": {
     "name": "#%%\n",
     "is_executing": false
    }
   }
  },
  {
   "cell_type": "code",
   "execution_count": null,
   "outputs": [],
   "source": [
    "\n"
   ],
   "metadata": {
    "collapsed": false,
    "pycharm": {
     "name": "#%%\n"
    }
   }
  }
 ],
 "metadata": {
  "kernelspec": {
   "display_name": "Python 3",
   "language": "python",
   "name": "python3"
  },
  "language_info": {
   "codemirror_mode": {
    "name": "ipython",
    "version": 2
   },
   "file_extension": ".py",
   "mimetype": "text/x-python",
   "name": "python",
   "nbconvert_exporter": "python",
   "pygments_lexer": "ipython2",
   "version": "2.7.6"
  },
  "pycharm": {
   "stem_cell": {
    "cell_type": "raw",
    "source": [],
    "metadata": {
     "collapsed": false
    }
   }
  }
 },
 "nbformat": 4,
 "nbformat_minor": 0
}